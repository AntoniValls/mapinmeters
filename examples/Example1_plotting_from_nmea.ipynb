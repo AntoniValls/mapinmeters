{
 "cells": [
  {
   "cell_type": "code",
   "execution_count": 1,
   "metadata": {},
   "outputs": [],
   "source": [
    "DATASET_PATH = \"../data/\"\n",
    "filename = \"output.nmea\"\n",
    "\n",
    "data_src = DATASET_PATH + filename"
   ]
  },
  {
   "cell_type": "code",
   "execution_count": 2,
   "metadata": {},
   "outputs": [],
   "source": [
    "import pandas as pd\n",
    "import pynmea2\n",
    "\n",
    "file = open(data_src)\n",
    "gga_msg = None\n",
    "llh_data = []\n",
    "i=0\n",
    "for line in file.readlines():\n",
    "    try:\n",
    "        msg = pynmea2.parse(line)\n",
    "        if type(msg) == pynmea2.types.talker.GGA:\n",
    "            gga_msg = msg\n",
    "            llh_entry = {}\n",
    "            llh_entry[\"latitude\"] = msg.latitude\n",
    "            llh_entry[\"longitude\"] = msg.longitude\n",
    "            llh_entry[\"q\"] = msg.gps_qual\n",
    "            llh_entry[\"age\"] = msg.age_gps_data\n",
    "            llh_entry[\"ns\"] = msg.num_sats\n",
    "            \n",
    "            llh_data.append(llh_entry)\n",
    "\n",
    "    except pynmea2.ParseError as e:\n",
    "        print('Parse error: {}'.format(e))\n",
    "        continue\n",
    "    i+=1"
   ]
  },
  {
   "cell_type": "code",
   "execution_count": 3,
   "metadata": {},
   "outputs": [
    {
     "data": {
      "text/html": [
       "<div>\n",
       "<style scoped>\n",
       "    .dataframe tbody tr th:only-of-type {\n",
       "        vertical-align: middle;\n",
       "    }\n",
       "\n",
       "    .dataframe tbody tr th {\n",
       "        vertical-align: top;\n",
       "    }\n",
       "\n",
       "    .dataframe thead th {\n",
       "        text-align: right;\n",
       "    }\n",
       "</style>\n",
       "<table border=\"1\" class=\"dataframe\">\n",
       "  <thead>\n",
       "    <tr style=\"text-align: right;\">\n",
       "      <th></th>\n",
       "      <th>latitude</th>\n",
       "      <th>longitude</th>\n",
       "      <th>q</th>\n",
       "      <th>age</th>\n",
       "      <th>ns</th>\n",
       "    </tr>\n",
       "  </thead>\n",
       "  <tbody>\n",
       "    <tr>\n",
       "      <th>count</th>\n",
       "      <td>51.000000</td>\n",
       "      <td>51.000000</td>\n",
       "      <td>51.0</td>\n",
       "      <td>0.0</td>\n",
       "      <td>51.0</td>\n",
       "    </tr>\n",
       "    <tr>\n",
       "      <th>mean</th>\n",
       "      <td>52.056453</td>\n",
       "      <td>-9.509728</td>\n",
       "      <td>1.0</td>\n",
       "      <td>NaN</td>\n",
       "      <td>12.0</td>\n",
       "    </tr>\n",
       "    <tr>\n",
       "      <th>std</th>\n",
       "      <td>0.000505</td>\n",
       "      <td>0.001492</td>\n",
       "      <td>0.0</td>\n",
       "      <td>NaN</td>\n",
       "      <td>0.0</td>\n",
       "    </tr>\n",
       "    <tr>\n",
       "      <th>min</th>\n",
       "      <td>52.055633</td>\n",
       "      <td>-9.512217</td>\n",
       "      <td>1.0</td>\n",
       "      <td>NaN</td>\n",
       "      <td>12.0</td>\n",
       "    </tr>\n",
       "    <tr>\n",
       "      <th>25%</th>\n",
       "      <td>52.056042</td>\n",
       "      <td>-9.510908</td>\n",
       "      <td>1.0</td>\n",
       "      <td>NaN</td>\n",
       "      <td>12.0</td>\n",
       "    </tr>\n",
       "    <tr>\n",
       "      <th>50%</th>\n",
       "      <td>52.056383</td>\n",
       "      <td>-9.509750</td>\n",
       "      <td>1.0</td>\n",
       "      <td>NaN</td>\n",
       "      <td>12.0</td>\n",
       "    </tr>\n",
       "    <tr>\n",
       "      <th>75%</th>\n",
       "      <td>52.056975</td>\n",
       "      <td>-9.508242</td>\n",
       "      <td>1.0</td>\n",
       "      <td>NaN</td>\n",
       "      <td>12.0</td>\n",
       "    </tr>\n",
       "    <tr>\n",
       "      <th>max</th>\n",
       "      <td>52.057250</td>\n",
       "      <td>-9.507417</td>\n",
       "      <td>1.0</td>\n",
       "      <td>NaN</td>\n",
       "      <td>12.0</td>\n",
       "    </tr>\n",
       "  </tbody>\n",
       "</table>\n",
       "</div>"
      ],
      "text/plain": [
       "        latitude  longitude     q  age    ns\n",
       "count  51.000000  51.000000  51.0  0.0  51.0\n",
       "mean   52.056453  -9.509728   1.0  NaN  12.0\n",
       "std     0.000505   0.001492   0.0  NaN   0.0\n",
       "min    52.055633  -9.512217   1.0  NaN  12.0\n",
       "25%    52.056042  -9.510908   1.0  NaN  12.0\n",
       "50%    52.056383  -9.509750   1.0  NaN  12.0\n",
       "75%    52.056975  -9.508242   1.0  NaN  12.0\n",
       "max    52.057250  -9.507417   1.0  NaN  12.0"
      ]
     },
     "execution_count": 3,
     "metadata": {},
     "output_type": "execute_result"
    }
   ],
   "source": [
    "raw_df = pd.DataFrame(llh_data)\n",
    "raw_df[\"age\"] = pd.to_numeric(raw_df[\"age\"])\n",
    "raw_df[\"ns\"] = pd.to_numeric(raw_df[\"ns\"])\n",
    "desc = raw_df.describe()\n",
    "desc"
   ]
  },
  {
   "cell_type": "code",
   "execution_count": 4,
   "metadata": {},
   "outputs": [],
   "source": [
    "import matplotlib.pyplot as plt\n",
    "import tilemapbase\n",
    "\n",
    "tilemapbase.start_logging()\n",
    "tilemapbase.init(create=True)\n",
    "t = tilemapbase.tiles.build_OSM()"
   ]
  },
  {
   "cell_type": "code",
   "execution_count": 7,
   "metadata": {},
   "outputs": [],
   "source": [
    "import sys\n",
    "sys.path.append('..')"
   ]
  },
  {
   "cell_type": "code",
   "execution_count": 9,
   "metadata": {},
   "outputs": [
    {
     "name": "stdout",
     "output_type": "stream",
     "text": [
      "The autoreload extension is already loaded. To reload it, use:\n",
      "  %reload_ext autoreload\n"
     ]
    }
   ],
   "source": [
    "%load_ext autoreload\n",
    "%autoreload 2\n",
    "from extentutm import ExtentUTM"
   ]
  },
  {
   "cell_type": "code",
   "execution_count": 10,
   "metadata": {},
   "outputs": [],
   "source": [
    "# get tilemap limits (10% of the difference on each axis is added)\n",
    "delta_lat = 0.1 * (desc.latitude[\"max\"] - desc.latitude[\"min\"])\n",
    "delta_lon = 0.1 * (desc.longitude[\"max\"] - desc.longitude[\"min\"])\n",
    "\n",
    "min_lon = desc.longitude[\"min\"] - delta_lon\n",
    "max_lon = desc.longitude[\"max\"] + delta_lon\n",
    "min_lat = desc.latitude[\"min\"] - delta_lat\n",
    "max_lat = desc.latitude[\"max\"] + delta_lat"
   ]
  },
  {
   "cell_type": "code",
   "execution_count": 11,
   "metadata": {},
   "outputs": [
    {
     "name": "stdout",
     "output_type": "stream",
     "text": [
      "0.47357584259259256 0.4735918425925926 0.33005589398130974 0.3300646580423183\n"
     ]
    }
   ],
   "source": [
    "extent_utm = ExtentUTM.from_lonlat(min_lon,\n",
    "                                   max_lon,\n",
    "                                   min_lat,\n",
    "                                   max_lat)"
   ]
  },
  {
   "cell_type": "code",
   "execution_count": 23,
   "metadata": {},
   "outputs": [],
   "source": [
    "from pyproj import Proj\n",
    "\n",
    "myProj = Proj(\"+proj=utm +zone=29U, +north +ellps=WGS84 +datum=WGS84 +units=m +no_defs\")\n",
    "\n",
    "utm_x = []\n",
    "utm_y = []\n",
    "\n",
    "for i, r in raw_df.iterrows():\n",
    "    #dx, dy = extent_utm.project(r[\"latitude\"],r[\"longitude\"])\n",
    "    dx, dy = myProj(r[\"longitude\"],r[\"latitude\"])    \n",
    "    utm_x.append(dx)\n",
    "    utm_y.append(dy)"
   ]
  },
  {
   "cell_type": "code",
   "execution_count": 25,
   "metadata": {},
   "outputs": [
    {
     "data": {
      "application/vnd.jupyter.widget-view+json": {
       "model_id": "4beb10194e744107830f857cb1dadc47",
       "version_major": 2,
       "version_minor": 0
      },
      "text/plain": [
       "Canvas(toolbar=Toolbar(toolitems=[('Home', 'Reset original view', 'home', 'home'), ('Back', 'Back to previous …"
      ]
     },
     "metadata": {},
     "output_type": "display_data"
    }
   ],
   "source": [
    "%matplotlib widget\n",
    "fig, axs = plt.subplots(1,1,figsize=(8,8), dpi=90)\n",
    "tiles = t\n",
    "\n",
    "plotter = tilemapbase.Plotter(extent_utm, tiles, width=600)\n",
    "plotter.plot(axs, tiles)\n",
    "\n",
    "#axs.plot(utm_x_base, utm_y_base, \" b*\", label=\"RTK base\", markersize=10)\n",
    "axs.plot(utm_x, utm_y,\":r.\", label=\"data\", markersize=2)\n",
    "\n",
    "axs.set_title(\"Using custom UTM zone 29U\")\n",
    "axs.set_ylabel(\"northing [m]\")\n",
    "axs.set_xlabel(\"easting [m]\")\n",
    "axs.grid()"
   ]
  }
 ],
 "metadata": {
  "kernelspec": {
   "display_name": "Python 3",
   "language": "python",
   "name": "python3"
  },
  "language_info": {
   "codemirror_mode": {
    "name": "ipython",
    "version": 3
   },
   "file_extension": ".py",
   "mimetype": "text/x-python",
   "name": "python",
   "nbconvert_exporter": "python",
   "pygments_lexer": "ipython3",
   "version": "3.6.9"
  }
 },
 "nbformat": 4,
 "nbformat_minor": 2
}
